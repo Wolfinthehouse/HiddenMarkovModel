{
 "cells": [
  {
   "cell_type": "code",
   "execution_count": 49,
   "metadata": {},
   "outputs": [],
   "source": [
    "import pandas as pd\n",
    "import csv\n",
    "import json\n",
    "from collections import ChainMap\n",
    "from nltk.stem import WordNetLemmatizer\n",
    "import random\n",
    "import contractions\n",
    "from nltk.tag import pos_tag"
   ]
  },
  {
   "cell_type": "code",
   "execution_count": 50,
   "metadata": {},
   "outputs": [],
   "source": [
    "df = pd.read_csv(\"train\", sep='\\t', quoting=csv.QUOTE_NONE, header=None)\n",
    "df.loc[0] = [1, \".\", \".\"]"
   ]
  },
  {
   "cell_type": "code",
   "execution_count": 87,
   "metadata": {},
   "outputs": [],
   "source": [
    "df.columns =['Index', 'Name', 'POS']"
   ]
  },
  {
   "cell_type": "code",
   "execution_count": 52,
   "metadata": {
    "scrolled": true
   },
   "outputs": [
    {
     "data": {
      "text/plain": [
       "0         None\n",
       "1         None\n",
       "2         None\n",
       "3         None\n",
       "4         None\n",
       "5         None\n",
       "6         None\n",
       "7         None\n",
       "8         None\n",
       "9         None\n",
       "10        None\n",
       "11        None\n",
       "12        None\n",
       "13        None\n",
       "14        None\n",
       "15        None\n",
       "16        None\n",
       "17        None\n",
       "18        None\n",
       "19        None\n",
       "20        None\n",
       "21        None\n",
       "22        None\n",
       "23        None\n",
       "24        None\n",
       "25        None\n",
       "26        None\n",
       "27        None\n",
       "28        None\n",
       "29        None\n",
       "          ... \n",
       "912065    None\n",
       "912066    None\n",
       "912067    None\n",
       "912068    None\n",
       "912069    None\n",
       "912070    None\n",
       "912071    None\n",
       "912072    None\n",
       "912073    None\n",
       "912074    None\n",
       "912075    None\n",
       "912076    None\n",
       "912077    None\n",
       "912078    None\n",
       "912079    None\n",
       "912080    None\n",
       "912081    None\n",
       "912082    None\n",
       "912083    None\n",
       "912084    None\n",
       "912085    None\n",
       "912086    None\n",
       "912087    None\n",
       "912088    None\n",
       "912089    None\n",
       "912090    None\n",
       "912091    None\n",
       "912092    None\n",
       "912093    None\n",
       "912094    None\n",
       "Name: Name, Length: 912095, dtype: object"
      ]
     },
     "execution_count": 52,
     "metadata": {},
     "output_type": "execute_result"
    }
   ],
   "source": [
    "from collections import Counter\n",
    "results = Counter()\n",
    "df['Name'].str.lower().str.split().apply(results.update)"
   ]
  },
  {
   "cell_type": "code",
   "execution_count": 53,
   "metadata": {},
   "outputs": [],
   "source": [
    "count_unk = 0\n",
    "for word in list(results):\n",
    "    if results[word]<2:\n",
    "        key = pos_tag([word])[0][1]\n",
    "        results[\"<unk_\"+str(key).lower()+\">\"] += results[word]\n",
    "        count_unk += results[word]\n",
    "        del results[word]"
   ]
  },
  {
   "cell_type": "code",
   "execution_count": 54,
   "metadata": {},
   "outputs": [],
   "source": [
    "results = dict(results)"
   ]
  },
  {
   "cell_type": "code",
   "execution_count": 55,
   "metadata": {},
   "outputs": [],
   "source": [
    "sorted_results = {k: v for k, v in sorted(results.items(), key=lambda item: item[1], reverse = True)}\n",
    "#print(sorted_results)"
   ]
  },
  {
   "cell_type": "code",
   "execution_count": 89,
   "metadata": {},
   "outputs": [
    {
     "name": "stdout",
     "output_type": "stream",
     "text": [
      "17401\n",
      "13\n"
     ]
    }
   ],
   "source": [
    "unk_dict = [(key,value) for key, value in results.items() if '<unk_' in key.lower()]\n",
    "count_unk = sum([int(pair[1]) for pair in unk_dict])\n",
    "#print(count_unk)\n",
    "#print(len(unk_dict))"
   ]
  },
  {
   "cell_type": "code",
   "execution_count": 90,
   "metadata": {},
   "outputs": [],
   "source": [
    "index=1\n",
    "with open('vocab.txt', 'w') as vocab_file:\n",
    "    #vocab_file.write(\"<unk>\\t1\\t\"+str(sorted_results[\"<unk>\"])+\"\\n\")\n",
    "    for temp in unk_dict:\n",
    "        vocab_file.write(str(temp[0])+\"\\t\"+str(index)+\"\\t\"+str(temp[1])+\"\\n\")\n",
    "        index+=1"
   ]
  },
  {
   "cell_type": "code",
   "execution_count": 91,
   "metadata": {},
   "outputs": [],
   "source": [
    "index=14\n",
    "with open('vocab.txt', 'a') as vocab_file:\n",
    "    #vocab_file.write(\"<unk>\\t1\\t\"+str(sorted_results[\"<unk>\"])+\"\\n\")\n",
    "    for key,value in sorted_results.items():\n",
    "        if '<unk_' in key.lower():\n",
    "            continue\n",
    "        else:\n",
    "            vocab_file.write(key+\"\\t\"+str(index)+\"\\t\"+str(value)+\"\\n\")\n",
    "        index+=1"
   ]
  },
  {
   "cell_type": "code",
   "execution_count": 84,
   "metadata": {},
   "outputs": [
    {
     "name": "stdout",
     "output_type": "stream",
     "text": [
      "21170\n"
     ]
    }
   ],
   "source": [
    "vocab = set(sorted_results.keys())\n",
    "#print(len(vocab))\n",
    "#print(sorted_results['arizona'])"
   ]
  },
  {
   "cell_type": "code",
   "execution_count": 57,
   "metadata": {},
   "outputs": [],
   "source": [
    "def replaceWithUnk(word):\n",
    "    if(word not in vocab):\n",
    "        key = pos_tag([word])[0][1]\n",
    "        return \"<unk_\"+key+\">\"\n",
    "    else:\n",
    "        return word"
   ]
  },
  {
   "cell_type": "code",
   "execution_count": 58,
   "metadata": {},
   "outputs": [],
   "source": [
    "df['Name'] = df['Name'].apply(lambda word : replaceWithUnk(word.lower()))\n",
    "df['POS'] = df['POS'].apply(lambda word : word.lower())"
   ]
  },
  {
   "cell_type": "code",
   "execution_count": 59,
   "metadata": {},
   "outputs": [],
   "source": [
    "state_transiton_counts = {}\n",
    "for i in range(1,len(df['POS'])):\n",
    "    key = str(df['POS'][i-1])+\"^\"+str(df['POS'][i])\n",
    "    if(key not in state_transiton_counts.keys()):\n",
    "        state_transiton_counts[key] = 1\n",
    "    else:\n",
    "        state_transiton_counts[key]+=1"
   ]
  },
  {
   "cell_type": "code",
   "execution_count": 60,
   "metadata": {},
   "outputs": [],
   "source": [
    "state_counts = {}\n",
    "for i in range(0,len(df['POS'])):\n",
    "    key = str(df['POS'][i])\n",
    "    if(key not in state_counts.keys()):\n",
    "        state_counts[key] = 1\n",
    "    else:\n",
    "        state_counts[key]+=1"
   ]
  },
  {
   "cell_type": "code",
   "execution_count": 61,
   "metadata": {},
   "outputs": [],
   "source": [
    "#state_counts"
   ]
  },
  {
   "cell_type": "code",
   "execution_count": 62,
   "metadata": {},
   "outputs": [],
   "source": [
    "emission_transiton_counts = {}\n",
    "for i in range(0,len(df['POS'])):\n",
    "    key = str(df['POS'][i])+\"^\"+str(df['Name'][i])\n",
    "    if(key not in emission_transiton_counts.keys()):\n",
    "        emission_transiton_counts[key] = 1\n",
    "    else:\n",
    "        emission_transiton_counts[key]+=1"
   ]
  },
  {
   "cell_type": "code",
   "execution_count": 63,
   "metadata": {},
   "outputs": [],
   "source": [
    "#emission_transiton_counts"
   ]
  },
  {
   "cell_type": "code",
   "execution_count": 64,
   "metadata": {},
   "outputs": [],
   "source": [
    "transition_probabilites = {}\n",
    "transition_matrix = ChainMap()\n",
    "for key in state_transiton_counts.keys():\n",
    "    backward,forward = key.split(\"^\")\n",
    "    probability = state_transiton_counts[key] / state_counts[backward]\n",
    "    transition_key = \"(\"+backward+\",\"+forward+\")\"\n",
    "    transition_probabilites[transition_key] = probability\n",
    "    if backward not in transition_matrix.keys():\n",
    "        #emisson_matrix[word] = [[state,probability]]\n",
    "        transition_matrix[backward] = {forward:probability}\n",
    "    else:\n",
    "        transition_matrix[backward].update({forward:probability})\n",
    "        #emisson_matrix[word].append([state,probability])"
   ]
  },
  {
   "cell_type": "code",
   "execution_count": 92,
   "metadata": {},
   "outputs": [
    {
     "data": {
      "text/plain": [
       "1378"
      ]
     },
     "execution_count": 92,
     "metadata": {},
     "output_type": "execute_result"
    }
   ],
   "source": [
    "#print(transition_probabilites)\n",
    "len(transition_probabilites)"
   ]
  },
  {
   "cell_type": "code",
   "execution_count": 66,
   "metadata": {},
   "outputs": [],
   "source": [
    "#print(transition_matrix['.'])\n",
    "#max(transition_matrix['cd'], key=transition_matrix['cd'].get)"
   ]
  },
  {
   "cell_type": "code",
   "execution_count": 67,
   "metadata": {},
   "outputs": [],
   "source": [
    "emission_probabilites = {}\n",
    "emisson_matrix = ChainMap()\n",
    "for key in emission_transiton_counts.keys():\n",
    "    state,word = key.split(\"^\")\n",
    "    probability = emission_transiton_counts[key] / state_counts[state]\n",
    "    transition_key = \"(\"+state+\",\"+word+\")\"\n",
    "    emission_probabilites[transition_key] = probability\n",
    "    if word not in emisson_matrix.keys():\n",
    "        #emisson_matrix[word] = [[state,probability]]\n",
    "        emisson_matrix[word] = {state:probability}\n",
    "    else:\n",
    "        emisson_matrix[word].update({state:probability})\n",
    "        #emisson_matrix[word].append([state,probability])"
   ]
  },
  {
   "cell_type": "code",
   "execution_count": 93,
   "metadata": {
    "scrolled": false
   },
   "outputs": [
    {
     "data": {
      "text/plain": [
       "29743"
      ]
     },
     "execution_count": 93,
     "metadata": {},
     "output_type": "execute_result"
    }
   ],
   "source": [
    "len(emission_probabilites)"
   ]
  },
  {
   "cell_type": "code",
   "execution_count": 94,
   "metadata": {},
   "outputs": [],
   "source": [
    "with open(\"hmm.json\", \"w\") as outfile:\n",
    "    #outfile.write(\"\\nTransition Probabilites: \\n\")\n",
    "    json.dump({\"Transition Probabilites\":transition_probabilites}, outfile)\n",
    "    #outfile.write(\"\\n\\nEmission Probabilites: \\n\")\n",
    "    json.dump({\"Emission Probabilites\":emission_probabilites}, outfile)"
   ]
  },
  {
   "cell_type": "code",
   "execution_count": 70,
   "metadata": {},
   "outputs": [],
   "source": [
    "with open(\"dev\",\"r\") as devfile:\n",
    "    corpus = devfile.readlines()\n",
    "dev_corpus = [sentence.lower() for sentence in corpus]"
   ]
  },
  {
   "cell_type": "code",
   "execution_count": 71,
   "metadata": {},
   "outputs": [],
   "source": [
    "with open(\"test\",\"r\") as devfile:\n",
    "    corpus = devfile.readlines()\n",
    "test_corpus = [sentence.lower() for sentence in corpus]"
   ]
  },
  {
   "cell_type": "code",
   "execution_count": 110,
   "metadata": {},
   "outputs": [],
   "source": [
    "cleaned_dev_corpus = []\n",
    "sentence = []\n",
    "for words in dev_corpus:\n",
    "    if words[0]!='\\n':\n",
    "        word_tag = words.split(\"\\t\")\n",
    "        word = (word_tag[1],word_tag[2].split('\\n')[0])\n",
    "        if word[0] in vocab:\n",
    "            sentence.append(word)\n",
    "        else:\n",
    "            key = pos_tag([word[0]])[0][1]\n",
    "            sentence.append((\"<unk_\"+key+\">\", word[1]))\n",
    "    else:\n",
    "        cleaned_dev_corpus.append(sentence)\n",
    "        sentence = []\n",
    "cleaned_dev_corpus.append(sentence)"
   ]
  },
  {
   "cell_type": "code",
   "execution_count": 111,
   "metadata": {},
   "outputs": [],
   "source": [
    "cleaned_test_corpus = []\n",
    "sentence = []\n",
    "for words in test_corpus:\n",
    "    if words[0]=='\\n':\n",
    "        cleaned_test_corpus.append(sentence)\n",
    "        sentence = []\n",
    "    else:\n",
    "        word_tag = words.split(\"\\t\")\n",
    "        word = word_tag[1].split('\\n')[0]\n",
    "        if word in vocab:\n",
    "            sentence.append(word)\n",
    "        else:\n",
    "            key = pos_tag([word])[0][1]\n",
    "            sentence.append(\"<unk_\"+key+\">\")\n",
    "cleaned_test_corpus.append(sentence)"
   ]
  },
  {
   "cell_type": "code",
   "execution_count": 74,
   "metadata": {},
   "outputs": [],
   "source": [
    "def GreedyDecoding(sentence,flag):\n",
    "    Tagged_POS = []\n",
    "    for i in range(len(sentence)):\n",
    "        if flag==\"dev\":\n",
    "            word_to_be_tagged = sentence[i][0]\n",
    "        else:\n",
    "            word_to_be_tagged = sentence[i]\n",
    "        #print(word_to_be_tagged)\n",
    "#         if word_to_be_tagged not in vocab:\n",
    "#             word_to_be_tagged = \"<unk>\"\n",
    "        #print(word_to_be_tagged)\n",
    "        max_value = 0\n",
    "        max_POS = 0\n",
    "        if(i==0):\n",
    "            for POS,value in emisson_matrix[word_to_be_tagged].items():\n",
    "                if POS in transition_matrix['.'].keys():\n",
    "                    total_probability = value * transition_matrix['.'][POS]\n",
    "                    if total_probability>=max_value:\n",
    "                        max_value = total_probability\n",
    "                        max_POS = POS\n",
    "            if max_POS == 0:\n",
    "                max_POS = max(transition_matrix['.'], key=transition_matrix['.'].get)\n",
    "                #max_POS = random.choice(list(transition_matrix['.'].keys()))\n",
    "                    \n",
    "        else:\n",
    "            for POS,value in emisson_matrix[word_to_be_tagged].items():\n",
    "                #print(transition_matrix.keys())\n",
    "                #print(Tagged_POS[i-1])\n",
    "                if POS in transition_matrix[Tagged_POS[i-1]].keys():\n",
    "                    total_probability = value * transition_matrix[Tagged_POS[i-1]][POS]\n",
    "                    if total_probability>=max_value:\n",
    "                        max_value = total_probability\n",
    "                        max_POS = POS\n",
    "            if max_POS == 0:\n",
    "                max_POS = max(transition_matrix[Tagged_POS[i-1]], key=transition_matrix[Tagged_POS[i-1]].get)\n",
    "                #max_POS = random.choice(list(transition_matrix[Tagged_POS[i-1]].keys()))\n",
    "        Tagged_POS.append(max_POS)\n",
    "        #print(Tagged_POS)\n",
    "    return(Tagged_POS)\n",
    "            "
   ]
  },
  {
   "cell_type": "code",
   "execution_count": 75,
   "metadata": {},
   "outputs": [],
   "source": [
    "def accuracy_model(data, algo):\n",
    "    correct = 0\n",
    "    total = 0\n",
    "    output = []\n",
    "    for sentence in data:\n",
    "        Tagged_POS = algo(sentence,\"dev\")\n",
    "        Actual_POS = [word[1] for word in sentence]\n",
    "        Actual_sentence = [word[0] for word in sentence]\n",
    "        correct_list = [1 if Tagged_POS[i]==Actual_POS[i] else 0 for i in range(len(Tagged_POS))]\n",
    "        sum(correct_list)\n",
    "        correct += sum(correct_list)\n",
    "        total += len(correct_list)\n",
    "        output.append(zip(Actual_sentence,Tagged_POS))\n",
    "    acc = correct/total\n",
    "    acc = acc * 100\n",
    "    return acc,output"
   ]
  },
  {
   "cell_type": "code",
   "execution_count": 76,
   "metadata": {},
   "outputs": [],
   "source": [
    "def get_tags(data,algo):\n",
    "    output = []\n",
    "    for sentence in data:\n",
    "        Tagged_POS = algo(sentence,\"test\")\n",
    "        output.append([sentence,Tagged_POS])\n",
    "    return output"
   ]
  },
  {
   "cell_type": "code",
   "execution_count": 112,
   "metadata": {},
   "outputs": [
    {
     "name": "stdout",
     "output_type": "stream",
     "text": [
      "93.02789751684779\n"
     ]
    }
   ],
   "source": [
    "accuracy_greedy_dev, output_greed_dev = accuracy_model(cleaned_dev_corpus,GreedyDecoding)\n",
    "print(accuracy_greedy_dev)"
   ]
  },
  {
   "cell_type": "code",
   "execution_count": 113,
   "metadata": {},
   "outputs": [],
   "source": [
    "output_greedy_test = get_tags(cleaned_test_corpus, GreedyDecoding)"
   ]
  },
  {
   "cell_type": "code",
   "execution_count": 114,
   "metadata": {},
   "outputs": [],
   "source": [
    "with open(\"greedy.out\", \"w\") as outfile:\n",
    "    for combined_sentence in output_greedy_test:\n",
    "        #print(*sentence)\n",
    "        index = 1\n",
    "        for i in range(len(combined_sentence[0])):\n",
    "            outfile.write(str(index)+ \"\\t\" + combined_sentence[0][i] + \"\\t\" + combined_sentence[1][i] + \"\\n\")\n",
    "            index+=1\n",
    "        outfile.write(\"\\n\")"
   ]
  },
  {
   "cell_type": "code",
   "execution_count": 80,
   "metadata": {},
   "outputs": [],
   "source": [
    "def Viterbi(sentence,flag):\n",
    "    V=[{}]\n",
    "    for st in state_counts.keys():\n",
    "#         print(sentence[0][0])\n",
    "#         print(st)\n",
    "        if flag==\"dev\":\n",
    "            if st in emisson_matrix[sentence[0][0]].keys():\n",
    "                emission_probability = emisson_matrix[sentence[0][0]][st]\n",
    "            else:\n",
    "                emission_probability = 0\n",
    "        else:\n",
    "            if st in emisson_matrix[sentence[0]].keys():\n",
    "                emission_probability = emisson_matrix[sentence[0]][st]\n",
    "            else:\n",
    "                emission_probability = 0\n",
    "\n",
    "        if st in transition_matrix['.'].keys():\n",
    "            transition_probability = transition_matrix['.'][st]\n",
    "        else:\n",
    "            transition_probability = 0\n",
    "#         print(transition_matrix['.'][st])\n",
    "#         print(emisson_matrix[sentence[0][0]][st])\n",
    "        V[0][st] = {\"prob\": emission_probability * transition_probability, \"prev\": None}\n",
    "    \n",
    "    for t in range(1, len(sentence)):\n",
    "        V.append({})\n",
    "        non_zero_initial_state = len(state_counts.keys())\n",
    "        for st in state_counts.keys():\n",
    "            keys = list(state_counts.keys())\n",
    "            \n",
    "            if st in transition_matrix[keys[0]]:\n",
    "                initial_transition_probability = transition_matrix[keys[0]][st]\n",
    "            else:\n",
    "                initial_transition_probability = 0\n",
    "                \n",
    "            max_tr_prob = V[t - 1][keys[0]][\"prob\"] * initial_transition_probability\n",
    "            prev_st_selected = keys[0]\n",
    "            for prev_st in keys[1:]:\n",
    "                #print(prev_st, st)\n",
    "                if st in transition_matrix[prev_st]:\n",
    "                    transition_probability = transition_matrix[prev_st][st]\n",
    "                else:\n",
    "                    transition_probability = 0\n",
    "                #print(transition_matrix[prev_st][st])\n",
    "                tr_prob = V[t - 1][prev_st][\"prob\"] * transition_probability\n",
    "                if tr_prob > max_tr_prob:\n",
    "                    max_tr_prob = tr_prob\n",
    "                    prev_st_selected = prev_st\n",
    "                                                      \n",
    "            if flag==\"dev\":        \n",
    "                if st in emisson_matrix[sentence[t][0]]:\n",
    "                    emission_probability = emisson_matrix[sentence[t][0]][st]\n",
    "                else:\n",
    "                    emission_probability = 0\n",
    "            else:\n",
    "                if st in emisson_matrix[sentence[t]]:\n",
    "                    emission_probability = emisson_matrix[sentence[t]][st]\n",
    "                else:\n",
    "                    emission_probability = 0\n",
    "\n",
    "            max_prob = max_tr_prob * emission_probability\n",
    "            V[t][st] = {\"prob\": max_prob, \"prev\": prev_st_selected}\n",
    "            if max_prob!=0:\n",
    "                non_zero_initial_state -= 1\n",
    "                \n",
    "        #print(non_zero_initial_state)\n",
    "        if non_zero_initial_state == len(state_counts.keys()):\n",
    "            prob = list(V[t-1].values())\n",
    "            #previous_probabilities = print(prob[0]['prob'])\n",
    "            previous_probabilities = [value['prob'] for value in prob]\n",
    "            previous_state = [value['prev'] for value in prob]\n",
    "            previous_max = max(previous_probabilities)\n",
    "            prev_max_st_index = previous_probabilities.index(previous_max)\n",
    "            for st in V[t].keys():\n",
    "                V[t][st] = {\"prob\": previous_max, \"prev\": previous_state[prev_max_st_index]}\n",
    "        \n",
    "    opt = []\n",
    "    max_prob = 0.0\n",
    "    best_st = None\n",
    "    #print(len(V))\n",
    "    #print(sentence[15][0])\n",
    "    #print(V[15].values())\n",
    "    for st, data in V[-1].items():\n",
    "        if data[\"prob\"] > max_prob:\n",
    "            max_prob = data[\"prob\"]\n",
    "            best_st = st\n",
    "    opt.append(best_st)\n",
    "    previous = best_st\n",
    "\n",
    "    for t in range(len(V) - 2, -1, -1):\n",
    "        opt.insert(0, V[t + 1][previous][\"prev\"])\n",
    "        previous = V[t + 1][previous][\"prev\"]\n",
    "    \n",
    "    return opt"
   ]
  },
  {
   "cell_type": "code",
   "execution_count": 115,
   "metadata": {},
   "outputs": [
    {
     "name": "stdout",
     "output_type": "stream",
     "text": [
      "94.3924169752899\n"
     ]
    }
   ],
   "source": [
    "accuracy_greedy_test, output_greed_test = accuracy_model(cleaned_dev_corpus, Viterbi)\n",
    "print(accuracy_greedy_test)"
   ]
  },
  {
   "cell_type": "code",
   "execution_count": 116,
   "metadata": {},
   "outputs": [],
   "source": [
    "output_viterbi_test = get_tags(cleaned_test_corpus, Viterbi)"
   ]
  },
  {
   "cell_type": "code",
   "execution_count": 117,
   "metadata": {},
   "outputs": [],
   "source": [
    "with open(\"viterbi.out\", \"w\") as outfile:\n",
    "    for combined_sentence in output_greedy_test:\n",
    "        #print(*sentence)\n",
    "        index = 1\n",
    "        for i in range(len(combined_sentence[0])):\n",
    "            outfile.write(str(index)+ \"\\t\" + combined_sentence[0][i] + \"\\t\" + combined_sentence[1][i] + \"\\n\")\n",
    "            index+=1\n",
    "        outfile.write(\"\\n\")"
   ]
  },
  {
   "cell_type": "code",
   "execution_count": null,
   "metadata": {},
   "outputs": [],
   "source": []
  },
  {
   "cell_type": "code",
   "execution_count": null,
   "metadata": {},
   "outputs": [],
   "source": []
  }
 ],
 "metadata": {
  "kernelspec": {
   "display_name": "Python 3",
   "language": "python",
   "name": "python3"
  },
  "language_info": {
   "codemirror_mode": {
    "name": "ipython",
    "version": 3
   },
   "file_extension": ".py",
   "mimetype": "text/x-python",
   "name": "python",
   "nbconvert_exporter": "python",
   "pygments_lexer": "ipython3",
   "version": "3.7.1"
  }
 },
 "nbformat": 4,
 "nbformat_minor": 2
}
